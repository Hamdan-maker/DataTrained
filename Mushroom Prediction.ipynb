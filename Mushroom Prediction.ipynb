{
 "cells": [
  {
   "cell_type": "markdown",
   "metadata": {},
   "source": [
    "# Data Description"
   ]
  },
  {
   "cell_type": "markdown",
   "metadata": {},
   "source": [
    "This data set includes descriptions of hypothetical samples corresponding to 23 species of gilled mushrooms in the Agaricus and Lepiota Family (pp. 500-525). Each species is identified as definitely edible, definitely poisonous, or of unknown edibility and not recommended. This latter class was combined with the poisonous one. The Guide clearly states that there is no simple rule for determining the edibility of a mushroom; no rule like ``leaflets three, let it be'' for Poisonous Oak and Ivy."
   ]
  },
  {
   "cell_type": "code",
   "execution_count": 70,
   "metadata": {},
   "outputs": [],
   "source": [
    "#Importing Required Libraries for EDA and metrics\n",
    "import pandas as pd\n",
    "import numpy as np\n",
    "import matplotlib.pyplot as plt\n",
    "import seaborn as sns\n",
    "from sklearn.metrics import accuracy_score,confusion_matrix,classification_report\n",
    "from sklearn.model_selection import train_test_split\n",
    "import warnings\n",
    "warnings.filterwarnings('ignore')"
   ]
  },
  {
   "cell_type": "code",
   "execution_count": 71,
   "metadata": {},
   "outputs": [],
   "source": [
    "#Reading the data frame\n",
    "df = pd.read_csv(\"mushrooms.csv\")\n"
   ]
  },
  {
   "cell_type": "code",
   "execution_count": 72,
   "metadata": {},
   "outputs": [
    {
     "data": {
      "text/html": [
       "<div>\n",
       "<style scoped>\n",
       "    .dataframe tbody tr th:only-of-type {\n",
       "        vertical-align: middle;\n",
       "    }\n",
       "\n",
       "    .dataframe tbody tr th {\n",
       "        vertical-align: top;\n",
       "    }\n",
       "\n",
       "    .dataframe thead th {\n",
       "        text-align: right;\n",
       "    }\n",
       "</style>\n",
       "<table border=\"1\" class=\"dataframe\">\n",
       "  <thead>\n",
       "    <tr style=\"text-align: right;\">\n",
       "      <th></th>\n",
       "      <th>class</th>\n",
       "      <th>cap-shape</th>\n",
       "      <th>cap-surface</th>\n",
       "      <th>cap-color</th>\n",
       "      <th>bruises</th>\n",
       "      <th>odor</th>\n",
       "      <th>gill-attachment</th>\n",
       "      <th>gill-spacing</th>\n",
       "      <th>gill-size</th>\n",
       "      <th>gill-color</th>\n",
       "      <th>...</th>\n",
       "      <th>stalk-surface-below-ring</th>\n",
       "      <th>stalk-color-above-ring</th>\n",
       "      <th>stalk-color-below-ring</th>\n",
       "      <th>veil-type</th>\n",
       "      <th>veil-color</th>\n",
       "      <th>ring-number</th>\n",
       "      <th>ring-type</th>\n",
       "      <th>spore-print-color</th>\n",
       "      <th>population</th>\n",
       "      <th>habitat</th>\n",
       "    </tr>\n",
       "  </thead>\n",
       "  <tbody>\n",
       "    <tr>\n",
       "      <th>0</th>\n",
       "      <td>p</td>\n",
       "      <td>x</td>\n",
       "      <td>s</td>\n",
       "      <td>n</td>\n",
       "      <td>t</td>\n",
       "      <td>p</td>\n",
       "      <td>f</td>\n",
       "      <td>c</td>\n",
       "      <td>n</td>\n",
       "      <td>k</td>\n",
       "      <td>...</td>\n",
       "      <td>s</td>\n",
       "      <td>w</td>\n",
       "      <td>w</td>\n",
       "      <td>p</td>\n",
       "      <td>w</td>\n",
       "      <td>o</td>\n",
       "      <td>p</td>\n",
       "      <td>k</td>\n",
       "      <td>s</td>\n",
       "      <td>u</td>\n",
       "    </tr>\n",
       "    <tr>\n",
       "      <th>1</th>\n",
       "      <td>e</td>\n",
       "      <td>x</td>\n",
       "      <td>s</td>\n",
       "      <td>y</td>\n",
       "      <td>t</td>\n",
       "      <td>a</td>\n",
       "      <td>f</td>\n",
       "      <td>c</td>\n",
       "      <td>b</td>\n",
       "      <td>k</td>\n",
       "      <td>...</td>\n",
       "      <td>s</td>\n",
       "      <td>w</td>\n",
       "      <td>w</td>\n",
       "      <td>p</td>\n",
       "      <td>w</td>\n",
       "      <td>o</td>\n",
       "      <td>p</td>\n",
       "      <td>n</td>\n",
       "      <td>n</td>\n",
       "      <td>g</td>\n",
       "    </tr>\n",
       "    <tr>\n",
       "      <th>2</th>\n",
       "      <td>e</td>\n",
       "      <td>b</td>\n",
       "      <td>s</td>\n",
       "      <td>w</td>\n",
       "      <td>t</td>\n",
       "      <td>l</td>\n",
       "      <td>f</td>\n",
       "      <td>c</td>\n",
       "      <td>b</td>\n",
       "      <td>n</td>\n",
       "      <td>...</td>\n",
       "      <td>s</td>\n",
       "      <td>w</td>\n",
       "      <td>w</td>\n",
       "      <td>p</td>\n",
       "      <td>w</td>\n",
       "      <td>o</td>\n",
       "      <td>p</td>\n",
       "      <td>n</td>\n",
       "      <td>n</td>\n",
       "      <td>m</td>\n",
       "    </tr>\n",
       "    <tr>\n",
       "      <th>3</th>\n",
       "      <td>p</td>\n",
       "      <td>x</td>\n",
       "      <td>y</td>\n",
       "      <td>w</td>\n",
       "      <td>t</td>\n",
       "      <td>p</td>\n",
       "      <td>f</td>\n",
       "      <td>c</td>\n",
       "      <td>n</td>\n",
       "      <td>n</td>\n",
       "      <td>...</td>\n",
       "      <td>s</td>\n",
       "      <td>w</td>\n",
       "      <td>w</td>\n",
       "      <td>p</td>\n",
       "      <td>w</td>\n",
       "      <td>o</td>\n",
       "      <td>p</td>\n",
       "      <td>k</td>\n",
       "      <td>s</td>\n",
       "      <td>u</td>\n",
       "    </tr>\n",
       "    <tr>\n",
       "      <th>4</th>\n",
       "      <td>e</td>\n",
       "      <td>x</td>\n",
       "      <td>s</td>\n",
       "      <td>g</td>\n",
       "      <td>f</td>\n",
       "      <td>n</td>\n",
       "      <td>f</td>\n",
       "      <td>w</td>\n",
       "      <td>b</td>\n",
       "      <td>k</td>\n",
       "      <td>...</td>\n",
       "      <td>s</td>\n",
       "      <td>w</td>\n",
       "      <td>w</td>\n",
       "      <td>p</td>\n",
       "      <td>w</td>\n",
       "      <td>o</td>\n",
       "      <td>e</td>\n",
       "      <td>n</td>\n",
       "      <td>a</td>\n",
       "      <td>g</td>\n",
       "    </tr>\n",
       "  </tbody>\n",
       "</table>\n",
       "<p>5 rows × 23 columns</p>\n",
       "</div>"
      ],
      "text/plain": [
       "  class cap-shape cap-surface cap-color bruises odor gill-attachment  \\\n",
       "0     p         x           s         n       t    p               f   \n",
       "1     e         x           s         y       t    a               f   \n",
       "2     e         b           s         w       t    l               f   \n",
       "3     p         x           y         w       t    p               f   \n",
       "4     e         x           s         g       f    n               f   \n",
       "\n",
       "  gill-spacing gill-size gill-color  ... stalk-surface-below-ring  \\\n",
       "0            c         n          k  ...                        s   \n",
       "1            c         b          k  ...                        s   \n",
       "2            c         b          n  ...                        s   \n",
       "3            c         n          n  ...                        s   \n",
       "4            w         b          k  ...                        s   \n",
       "\n",
       "  stalk-color-above-ring stalk-color-below-ring veil-type veil-color  \\\n",
       "0                      w                      w         p          w   \n",
       "1                      w                      w         p          w   \n",
       "2                      w                      w         p          w   \n",
       "3                      w                      w         p          w   \n",
       "4                      w                      w         p          w   \n",
       "\n",
       "  ring-number ring-type spore-print-color population habitat  \n",
       "0           o         p                 k          s       u  \n",
       "1           o         p                 n          n       g  \n",
       "2           o         p                 n          n       m  \n",
       "3           o         p                 k          s       u  \n",
       "4           o         e                 n          a       g  \n",
       "\n",
       "[5 rows x 23 columns]"
      ]
     },
     "execution_count": 72,
     "metadata": {},
     "output_type": "execute_result"
    }
   ],
   "source": [
    "#Fisrt 5 records\n",
    "df.head()"
   ]
  },
  {
   "cell_type": "code",
   "execution_count": 73,
   "metadata": {},
   "outputs": [
    {
     "name": "stdout",
     "output_type": "stream",
     "text": [
      "<class 'pandas.core.frame.DataFrame'>\n",
      "RangeIndex: 8124 entries, 0 to 8123\n",
      "Data columns (total 23 columns):\n",
      " #   Column                    Non-Null Count  Dtype \n",
      "---  ------                    --------------  ----- \n",
      " 0   class                     8124 non-null   object\n",
      " 1   cap-shape                 8124 non-null   object\n",
      " 2   cap-surface               8124 non-null   object\n",
      " 3   cap-color                 8124 non-null   object\n",
      " 4   bruises                   8124 non-null   object\n",
      " 5   odor                      8124 non-null   object\n",
      " 6   gill-attachment           8124 non-null   object\n",
      " 7   gill-spacing              8124 non-null   object\n",
      " 8   gill-size                 8124 non-null   object\n",
      " 9   gill-color                8124 non-null   object\n",
      " 10  stalk-shape               8124 non-null   object\n",
      " 11  stalk-root                8124 non-null   object\n",
      " 12  stalk-surface-above-ring  8124 non-null   object\n",
      " 13  stalk-surface-below-ring  8124 non-null   object\n",
      " 14  stalk-color-above-ring    8124 non-null   object\n",
      " 15  stalk-color-below-ring    8124 non-null   object\n",
      " 16  veil-type                 8124 non-null   object\n",
      " 17  veil-color                8124 non-null   object\n",
      " 18  ring-number               8124 non-null   object\n",
      " 19  ring-type                 8124 non-null   object\n",
      " 20  spore-print-color         8124 non-null   object\n",
      " 21  population                8124 non-null   object\n",
      " 22  habitat                   8124 non-null   object\n",
      "dtypes: object(23)\n",
      "memory usage: 1.4+ MB\n"
     ]
    }
   ],
   "source": [
    "#info for my dataframe which tells about Dtype and null data if available i see there are no issing values which can be treated.\n",
    "df.info()"
   ]
  },
  {
   "cell_type": "code",
   "execution_count": 74,
   "metadata": {},
   "outputs": [
    {
     "data": {
      "text/plain": [
       "<matplotlib.axes._subplots.AxesSubplot at 0x1876ab831c0>"
      ]
     },
     "execution_count": 74,
     "metadata": {},
     "output_type": "execute_result"
    },
    {
     "data": {
      "image/png": "[encoded data removed]",
      "text/plain": [
       "<Figure size 432x288 with 1 Axes>"
      ]
     },
     "metadata": {
      "needs_background": "light"
     },
     "output_type": "display_data"
    }
   ],
   "source": [
    "# Couting my class to see imbalance data in this case i dont feel there is any imbalance data\n",
    "sns.countplot(df['class'])"
   ]
  },
  {
   "cell_type": "code",
   "execution_count": 75,
   "metadata": {},
   "outputs": [
    {
     "data": {
      "text/plain": [
       "e    4208\n",
       "p    3916\n",
       "Name: class, dtype: int64"
      ]
     },
     "execution_count": 75,
     "metadata": {},
     "output_type": "execute_result"
    }
   ],
   "source": [
    "#Value count of class\n",
    "df['class'].value_counts()"
   ]
  },
  {
   "cell_type": "code",
   "execution_count": 76,
   "metadata": {},
   "outputs": [
    {
     "data": {
      "text/plain": [
       "array([1, 0])"
      ]
     },
     "execution_count": 76,
     "metadata": {},
     "output_type": "execute_result"
    }
   ],
   "source": [
    "#Changing my class from p and e to 0  and 1 using LabelEncoder\n",
    "# Import label encoder\n",
    "from sklearn import preprocessing\n",
    "  \n",
    "# label_encoder object knows how to understand word labels.\n",
    "label_encoder = preprocessing.LabelEncoder()\n",
    "  \n",
    "# Encode labels in column 'species'.\n",
    "df['class']= label_encoder.fit_transform(df['class'])\n",
    "  \n",
    "df['class'].unique()"
   ]
  },
  {
   "cell_type": "code",
   "execution_count": 77,
   "metadata": {},
   "outputs": [],
   "source": [
    "#Correlation for continous variables\n",
    "corr = df.corr()"
   ]
  },
  {
   "cell_type": "code",
   "execution_count": 78,
   "metadata": {},
   "outputs": [
    {
     "data": {
      "text/html": [
       "<div>\n",
       "<style scoped>\n",
       "    .dataframe tbody tr th:only-of-type {\n",
       "        vertical-align: middle;\n",
       "    }\n",
       "\n",
       "    .dataframe tbody tr th {\n",
       "        vertical-align: top;\n",
       "    }\n",
       "\n",
       "    .dataframe thead th {\n",
       "        text-align: right;\n",
       "    }\n",
       "</style>\n",
       "<table border=\"1\" class=\"dataframe\">\n",
       "  <thead>\n",
       "    <tr style=\"text-align: right;\">\n",
       "      <th></th>\n",
       "      <th>class</th>\n",
       "    </tr>\n",
       "  </thead>\n",
       "  <tbody>\n",
       "    <tr>\n",
       "      <th>class</th>\n",
       "      <td>1.0</td>\n",
       "    </tr>\n",
       "  </tbody>\n",
       "</table>\n",
       "</div>"
      ],
      "text/plain": [
       "       class\n",
       "class    1.0"
      ]
     },
     "execution_count": 78,
     "metadata": {},
     "output_type": "execute_result"
    }
   ],
   "source": [
    "corr"
   ]
  },
  {
   "cell_type": "code",
   "execution_count": 79,
   "metadata": {},
   "outputs": [],
   "source": [
    "#Seperating my features and label as X and y\n",
    "X = df.drop('class', axis=1)\n",
    "y = df['class']"
   ]
  },
  {
   "cell_type": "code",
   "execution_count": 80,
   "metadata": {},
   "outputs": [],
   "source": [
    "#Encoding my features using OneHotEncoder i even tried using get_dummies but i dont see good out put from my model so when i used onehot encoder i see some improvement in my model\n",
    "from sklearn.preprocessing import OneHotEncoder\n",
    "ohe = OneHotEncoder()\n",
    "X_encode = ohe.fit_transform(X)"
   ]
  },
  {
   "cell_type": "code",
   "execution_count": 81,
   "metadata": {},
   "outputs": [
    {
     "data": {
      "text/plain": [
       "<8124x117 sparse matrix of type '<class 'numpy.float64'>'\n",
       "\twith 178728 stored elements in Compressed Sparse Row format>"
      ]
     },
     "execution_count": 81,
     "metadata": {},
     "output_type": "execute_result"
    }
   ],
   "source": [
    "X_encode"
   ]
  },
  {
   "cell_type": "code",
   "execution_count": 82,
   "metadata": {},
   "outputs": [],
   "source": [
    "# Splitting my data into test and train \n",
    "x_train,x_test,y_train,y_test = train_test_split(X_encode,y,test_size=0.30,random_state=11)"
   ]
  },
  {
   "cell_type": "code",
   "execution_count": 83,
   "metadata": {},
   "outputs": [],
   "source": [
    "#Building my logsitic regression model\n",
    "from sklearn.linear_model import LogisticRegression\n",
    "logic_r = LogisticRegression(solver='liblinear') #Instantiate the LogisticRegression object\n",
    "logic_r.fit(x_train,y_train) #Call the fit method of logistic regression to train the model or to learn the parameters of model\n",
    "y_pred = logic_r.predict(x_test) #Predict  "
   ]
  },
  {
   "cell_type": "code",
   "execution_count": 84,
   "metadata": {
    "scrolled": true
   },
   "outputs": [
    {
     "name": "stdout",
     "output_type": "stream",
     "text": [
      "\u001b[1m->\u001b[1m->\u001b[1m->\u001b[1m->\u001b[1m->\u001b[1m->\u001b[1m->\u001b[1m->\u001b[1m->\u001b[1m->\u001b[1m->\u001b[1m->\u001b[1m->\u001b[1m->\u001b[1m->\u001b[1m->\u001b[1m->\u001b[1m->\u001b[1m->\u001b[1m->\u001b[1m->\u001b[1m->\u001b[1m->\u001b[1m->\u001b[1m->\u001b[1m->\u001b[1m->\u001b[1m->\u001b[1m->\u001b[1m->\u001b[1m->\u001b[1m->\u001b[1m->\u001b[1m->\u001b[1m->\u001b[1m->\u001b[1m->\u001b[1m->\u001b[1m->\u001b[1m->\u001b[1m->\u001b[1m->\u001b[1m->\u001b[1m->\u001b[1m->\u001b[1m->\u001b[1m->\u001b[1m->\u001b[1m->\u001b[1m->\u001b[1m->\u001b[1m->\u001b[1m->\u001b[1m->\u001b[1m->\u001b[1m->\u001b[1m->\u001b[1m->\u001b[1m->\u001b[1m->\u001b[1m->\u001b[1m->\u001b[1m->\n",
      "\u001b[1mConfusion Matrix\n",
      " [[1274    0]\n",
      " [   2 1162]]\n",
      "----------------------------------------\n",
      "Accuracy of Logistic Regression :1.00\n",
      "----------------------------------------\n",
      "\n",
      " Classification Report\n",
      "               precision    recall  f1-score   support\n",
      "\n",
      "           0       1.00      1.00      1.00      1274\n",
      "           1       1.00      1.00      1.00      1164\n",
      "\n",
      "    accuracy                           1.00      2438\n",
      "   macro avg       1.00      1.00      1.00      2438\n",
      "weighted avg       1.00      1.00      1.00      2438\n",
      "\n",
      "->->->->->->->->->->->->->->->->->->->->->->->->->->->->->->->->->->->->->->->->->->->->->->->->->->->->->->->->->->->->->->->\n"
     ]
    }
   ],
   "source": [
    "#Metrics for my model\n",
    "print('\\033[1m''->'*63)\n",
    "print('\\033[1m''Confusion Matrix\\n',confusion_matrix(y_test,y_pred)) #for confusion matrix\n",
    "print('-'*40)\n",
    "LR_accuracy = accuracy_score(y_test,y_pred)\n",
    "print('Accuracy of Logistic Regression :{:.2f}'.format(LR_accuracy)) #for accuracy score\n",
    "print('-'*40)\n",
    "print('\\n Classification Report\\n',classification_report(y_test,y_pred)) #for classification report\n",
    "print('->'*63)"
   ]
  },
  {
   "cell_type": "code",
   "execution_count": 85,
   "metadata": {},
   "outputs": [],
   "source": [
    "#Building SVC for my Model\n",
    "from sklearn.svm import SVC\n",
    "svc = SVC() #Instantiate the LogisticRegression object\n",
    "svc.fit(x_train,y_train) #Call the fit method of logistic regression to train the model or to learn the parameters of model\n",
    "y_pred = svc.predict(x_test) #Predict  "
   ]
  },
  {
   "cell_type": "code",
   "execution_count": 86,
   "metadata": {},
   "outputs": [
    {
     "name": "stdout",
     "output_type": "stream",
     "text": [
      "\u001b[1m->\u001b[1m->\u001b[1m->\u001b[1m->\u001b[1m->\u001b[1m->\u001b[1m->\u001b[1m->\u001b[1m->\u001b[1m->\u001b[1m->\u001b[1m->\u001b[1m->\u001b[1m->\u001b[1m->\u001b[1m->\u001b[1m->\u001b[1m->\u001b[1m->\u001b[1m->\u001b[1m->\u001b[1m->\u001b[1m->\u001b[1m->\u001b[1m->\u001b[1m->\u001b[1m->\u001b[1m->\u001b[1m->\u001b[1m->\u001b[1m->\u001b[1m->\u001b[1m->\u001b[1m->\u001b[1m->\u001b[1m->\u001b[1m->\u001b[1m->\u001b[1m->\u001b[1m->\u001b[1m->\u001b[1m->\u001b[1m->\u001b[1m->\u001b[1m->\u001b[1m->\u001b[1m->\u001b[1m->\u001b[1m->\u001b[1m->\u001b[1m->\u001b[1m->\u001b[1m->\u001b[1m->\u001b[1m->\u001b[1m->\u001b[1m->\u001b[1m->\u001b[1m->\u001b[1m->\u001b[1m->\u001b[1m->\u001b[1m->\n",
      "\u001b[1mConfusion Matrix\n",
      " [[1274    0]\n",
      " [   0 1164]]\n",
      "----------------------------------------\n",
      "Accuracy of Support Vector classifier :1.00\n",
      "----------------------------------------\n",
      "\n",
      " Classification Report\n",
      "               precision    recall  f1-score   support\n",
      "\n",
      "           0       1.00      1.00      1.00      1274\n",
      "           1       1.00      1.00      1.00      1164\n",
      "\n",
      "    accuracy                           1.00      2438\n",
      "   macro avg       1.00      1.00      1.00      2438\n",
      "weighted avg       1.00      1.00      1.00      2438\n",
      "\n",
      "->->->->->->->->->->->->->->->->->->->->->->->->->->->->->->->->->->->->->->->->->->->->->->->->->->->->->->->->->->->->->->->\n"
     ]
    }
   ],
   "source": [
    "#Metrics for my SVC model\n",
    "print('\\033[1m''->'*63)\n",
    "print('\\033[1m''Confusion Matrix\\n',confusion_matrix(y_test,y_pred)) #for confusion matrix\n",
    "print('-'*40)\n",
    "SVC_accuracy = accuracy_score(y_test,y_pred)\n",
    "print('Accuracy of Support Vector classifier :{:.2f}'.format(SVC_accuracy)) #for accuracy score\n",
    "print('-'*40)\n",
    "print('\\n Classification Report\\n',classification_report(y_test,y_pred)) #for classification report\n",
    "print('->'*63)"
   ]
  },
  {
   "cell_type": "code",
   "execution_count": 87,
   "metadata": {},
   "outputs": [],
   "source": [
    "#Builiding Desicion Tree Model\n",
    "from sklearn.tree import DecisionTreeClassifier\n",
    "\n",
    "DT = DecisionTreeClassifier() #Instantiate the LogisticRegression object\n",
    "DT.fit(x_train,y_train) #Call the fit method of logistic regression to train the model or to learn the parameters of model\n",
    "y_pred = DT.predict(x_test) #Predict  "
   ]
  },
  {
   "cell_type": "code",
   "execution_count": 88,
   "metadata": {},
   "outputs": [
    {
     "name": "stdout",
     "output_type": "stream",
     "text": [
      "\u001b[1m->\u001b[1m->\u001b[1m->\u001b[1m->\u001b[1m->\u001b[1m->\u001b[1m->\u001b[1m->\u001b[1m->\u001b[1m->\u001b[1m->\u001b[1m->\u001b[1m->\u001b[1m->\u001b[1m->\u001b[1m->\u001b[1m->\u001b[1m->\u001b[1m->\u001b[1m->\u001b[1m->\u001b[1m->\u001b[1m->\u001b[1m->\u001b[1m->\u001b[1m->\u001b[1m->\u001b[1m->\u001b[1m->\u001b[1m->\u001b[1m->\u001b[1m->\u001b[1m->\u001b[1m->\u001b[1m->\u001b[1m->\u001b[1m->\u001b[1m->\u001b[1m->\u001b[1m->\u001b[1m->\u001b[1m->\u001b[1m->\u001b[1m->\u001b[1m->\u001b[1m->\u001b[1m->\u001b[1m->\u001b[1m->\u001b[1m->\u001b[1m->\u001b[1m->\u001b[1m->\u001b[1m->\u001b[1m->\u001b[1m->\u001b[1m->\u001b[1m->\u001b[1m->\u001b[1m->\u001b[1m->\u001b[1m->\u001b[1m->\n",
      "\u001b[1mConfusion Matrix\n",
      " [[1274    0]\n",
      " [   2 1162]]\n",
      "----------------------------------------\n",
      "Accuracy of Decision Tree CLassifier :1.00\n",
      "----------------------------------------\n",
      "\n",
      " Classification Report\n",
      "               precision    recall  f1-score   support\n",
      "\n",
      "           0       1.00      1.00      1.00      1274\n",
      "           1       1.00      1.00      1.00      1164\n",
      "\n",
      "    accuracy                           1.00      2438\n",
      "   macro avg       1.00      1.00      1.00      2438\n",
      "weighted avg       1.00      1.00      1.00      2438\n",
      "\n",
      "->->->->->->->->->->->->->->->->->->->->->->->->->->->->->->->->->->->->->->->->->->->->->->->->->->->->->->->->->->->->->->->\n"
     ]
    }
   ],
   "source": [
    "#Metrics for my model\n",
    "print('\\033[1m''->'*63)\n",
    "print('\\033[1m''Confusion Matrix\\n',confusion_matrix(y_test,y_pred)) #for confusion matrix\n",
    "print('-'*40)\n",
    "DT_accuracy = accuracy_score(y_test,y_pred)\n",
    "print('Accuracy of Decision Tree CLassifier :{:.2f}'.format(DT_accuracy)) #for accuracy score\n",
    "print('-'*40)\n",
    "print('\\n Classification Report\\n',classification_report(y_test,y_pred)) #for classification report\n",
    "print('->'*63)"
   ]
  },
  {
   "cell_type": "code",
   "execution_count": 89,
   "metadata": {},
   "outputs": [],
   "source": [
    "#Building Random Forest Model\n",
    "from sklearn.ensemble import RandomForestClassifier\n",
    "randf = RandomForestClassifier() #Instantiate the LogisticRegression object\n",
    "randf.fit(x_train,y_train) #Call the fit method of logistic regression to train the model or to learn the parameters of model\n",
    "y_pred = randf.predict(x_test) #Predict  "
   ]
  },
  {
   "cell_type": "code",
   "execution_count": 90,
   "metadata": {
    "scrolled": true
   },
   "outputs": [
    {
     "name": "stdout",
     "output_type": "stream",
     "text": [
      "\u001b[1m->\u001b[1m->\u001b[1m->\u001b[1m->\u001b[1m->\u001b[1m->\u001b[1m->\u001b[1m->\u001b[1m->\u001b[1m->\u001b[1m->\u001b[1m->\u001b[1m->\u001b[1m->\u001b[1m->\u001b[1m->\u001b[1m->\u001b[1m->\u001b[1m->\u001b[1m->\u001b[1m->\u001b[1m->\u001b[1m->\u001b[1m->\u001b[1m->\u001b[1m->\u001b[1m->\u001b[1m->\u001b[1m->\u001b[1m->\u001b[1m->\u001b[1m->\u001b[1m->\u001b[1m->\u001b[1m->\u001b[1m->\u001b[1m->\u001b[1m->\u001b[1m->\u001b[1m->\u001b[1m->\u001b[1m->\u001b[1m->\u001b[1m->\u001b[1m->\u001b[1m->\u001b[1m->\u001b[1m->\u001b[1m->\u001b[1m->\u001b[1m->\u001b[1m->\u001b[1m->\u001b[1m->\u001b[1m->\u001b[1m->\u001b[1m->\u001b[1m->\u001b[1m->\u001b[1m->\u001b[1m->\u001b[1m->\u001b[1m->\n",
      "\u001b[1mConfusion Matrix\n",
      " [[1274    0]\n",
      " [   0 1164]]\n",
      "----------------------------------------\n",
      "Accuracy of  Random Forest :1.00\n",
      "----------------------------------------\n",
      "\n",
      " Classification Report\n",
      "               precision    recall  f1-score   support\n",
      "\n",
      "           0       1.00      1.00      1.00      1274\n",
      "           1       1.00      1.00      1.00      1164\n",
      "\n",
      "    accuracy                           1.00      2438\n",
      "   macro avg       1.00      1.00      1.00      2438\n",
      "weighted avg       1.00      1.00      1.00      2438\n",
      "\n",
      "->->->->->->->->->->->->->->->->->->->->->->->->->->->->->->->->->->->->->->->->->->->->->->->->->->->->->->->->->->->->->->->\n"
     ]
    }
   ],
   "source": [
    "#Metrics for my model\n",
    "print('\\033[1m''->'*63)\n",
    "print('\\033[1m''Confusion Matrix\\n',confusion_matrix(y_test,y_pred)) #for confusion matrix\n",
    "print('-'*40)\n",
    "randf_accuracy = accuracy_score(y_test,y_pred)\n",
    "print('Accuracy of  Random Forest :{:.2f}'.format(randf_accuracy)) #for accuracy score\n",
    "print('-'*40)\n",
    "print('\\n Classification Report\\n',classification_report(y_test,y_pred)) #for classification report\n",
    "print('->'*63)"
   ]
  },
  {
   "cell_type": "code",
   "execution_count": 91,
   "metadata": {},
   "outputs": [],
   "source": [
    "#for corss Validation\n",
    "from sklearn.model_selection import KFold,cross_val_score\n"
   ]
  },
  {
   "cell_type": "code",
   "execution_count": 92,
   "metadata": {},
   "outputs": [
    {
     "data": {
      "text/plain": [
       "0.07946718861178992"
      ]
     },
     "execution_count": 92,
     "metadata": {},
     "output_type": "execute_result"
    }
   ],
   "source": [
    "#Cross Validation  for Linear regression\n",
    "a =cross_val_score(logic_r,X_encode,y,cv=5).mean()\n",
    "b = LR_accuracy\n",
    "\n",
    "b-a"
   ]
  },
  {
   "cell_type": "code",
   "execution_count": 93,
   "metadata": {},
   "outputs": [
    {
     "data": {
      "text/plain": [
       "0.06808404698749526"
      ]
     },
     "execution_count": 93,
     "metadata": {},
     "output_type": "execute_result"
    }
   ],
   "source": [
    "#Cross Validation  for RandomForest\n",
    "a = cross_val_score(randf,X_encode,y,cv=5).mean()\n",
    "b = randf_accuracy\n",
    "b-a"
   ]
  },
  {
   "cell_type": "code",
   "execution_count": 94,
   "metadata": {},
   "outputs": [
    {
     "data": {
      "text/plain": [
       "0.12424115195149665"
      ]
     },
     "execution_count": 94,
     "metadata": {},
     "output_type": "execute_result"
    }
   ],
   "source": [
    "#Cross Validation  for Support Vector Classifier\n",
    "a = cross_val_score(svc,X_encode,y,cv=5).mean()\n",
    "b = SVC_accuracy\n",
    "b-a"
   ]
  },
  {
   "cell_type": "code",
   "execution_count": 95,
   "metadata": {},
   "outputs": [
    {
     "data": {
      "text/plain": [
       "0.06100186083611725"
      ]
     },
     "execution_count": 95,
     "metadata": {},
     "output_type": "execute_result"
    }
   ],
   "source": [
    "#Cross Validation  for Desicion tree\n",
    "a = cross_val_score(DT,X_encode,y,cv=5).mean()\n",
    "b = DT_accuracy\n",
    "b-a"
   ]
  },
  {
   "cell_type": "markdown",
   "metadata": {},
   "source": [
    "So Here I see that my algorithms are slightly over fitted i have used cross validation to confirm the same based on this process came to conclution that desicion tree algorithm has less  variance for my accuracy  with cross_val_score. Hence finalising Desicion tree  algorith as a final algorithm."
   ]
  },
  {
   "cell_type": "markdown",
   "metadata": {},
   "source": [
    "# Creating PKL file"
   ]
  },
  {
   "cell_type": "code",
   "execution_count": 97,
   "metadata": {},
   "outputs": [],
   "source": [
    "#Saving the model in pkl file\n",
    "import joblib\n",
    "joblib.dump(DT,\"Mushroom_Prediction.pkl\")\n",
    "\n",
    "model = joblib.load(\"Mushroom_Prediction.pkl\")\n",
    "\n",
    "#Predicting the saved model\n",
    "prediction = model.predict(x_test)\n",
    "\n",
    "#Converting the result into DataFrame\n",
    "prediction = pd.DataFrame(prediction)\n",
    "\n",
    "#Saving the result into CSV\n",
    "prediction.to_csv(\"Results_Mushroom.csv\",index=False)\n",
    "\n"
   ]
  },
  {
   "cell_type": "code",
   "execution_count": null,
   "metadata": {},
   "outputs": [],
   "source": []
  }
 ],
 "metadata": {
  "kernelspec": {
   "display_name": "Python 3",
   "language": "python",
   "name": "python3"
  },
  "language_info": {
   "codemirror_mode": {
    "name": "ipython",
    "version": 3
   },
   "file_extension": ".py",
   "mimetype": "text/x-python",
   "name": "python",
   "nbconvert_exporter": "python",
   "pygments_lexer": "ipython3",
   "version": "3.8.3"
  }
 },
 "nbformat": 4,
 "nbformat_minor": 4
}
